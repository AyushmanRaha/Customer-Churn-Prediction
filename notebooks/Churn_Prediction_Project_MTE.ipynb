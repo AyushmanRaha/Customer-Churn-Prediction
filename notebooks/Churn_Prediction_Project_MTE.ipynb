{
  "nbformat": 4,
  "nbformat_minor": 0,
  "metadata": {
    "colab": {
      "provenance": [],
      "authorship_tag": "ABX9TyNsbo/WdzKUYTl3dhb/lRpx",
      "include_colab_link": true
    },
    "kernelspec": {
      "name": "python3",
      "display_name": "Python 3"
    },
    "language_info": {
      "name": "python"
    }
  },
  "cells": [
    {
      "cell_type": "markdown",
      "metadata": {
        "id": "view-in-github",
        "colab_type": "text"
      },
      "source": [
        "<a href=\"https://colab.research.google.com/github/AyushmanRaha/Customer-Churn-Prediction/blob/main/Churn_Prediction_Project_MTE.ipynb\" target=\"_parent\"><img src=\"https://colab.research.google.com/assets/colab-badge.svg\" alt=\"Open In Colab\"/></a>"
      ]
    },
    {
      "cell_type": "markdown",
      "source": [
        "# **Basic Setup**"
      ],
      "metadata": {
        "id": "U8aVfcDNPWGE"
      }
    },
    {
      "cell_type": "markdown",
      "source": [
        "Cloning the github repository of the project"
      ],
      "metadata": {
        "id": "3QOSv7nDPffn"
      }
    },
    {
      "cell_type": "code",
      "execution_count": 3,
      "metadata": {
        "colab": {
          "base_uri": "https://localhost:8080/"
        },
        "id": "rWyarRWAF4tu",
        "outputId": "ce06848b-d939-4193-d107-7e02c85da373"
      },
      "outputs": [
        {
          "output_type": "stream",
          "name": "stdout",
          "text": [
            "fatal: destination path 'Customer-Churn-Prediction' already exists and is not an empty directory.\n"
          ]
        }
      ],
      "source": [
        "import sys\n",
        "!git clone https://github.com/AyushmanRaha/Customer-Churn-Prediction"
      ]
    },
    {
      "cell_type": "code",
      "source": [
        "repo_path = '/content/Customer-Churn-Prediction'\n",
        "sys.path.append(repo_path)"
      ],
      "metadata": {
        "id": "GNcGdPI6P1lM"
      },
      "execution_count": 4,
      "outputs": []
    }
  ]
}
